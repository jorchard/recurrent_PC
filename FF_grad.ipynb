{
 "cells": [
  {
   "cell_type": "markdown",
   "metadata": {},
   "source": [
    "# PC Gradients"
   ]
  },
  {
   "cell_type": "code",
   "execution_count": 1,
   "metadata": {},
   "outputs": [],
   "source": [
    "import numpy as np\n",
    "import matplotlib.pyplot as plt\n",
    "from math_operations import *\n",
    "from PCUnit import *\n",
    "from PCConx import *\n",
    "from PCNet import *\n",
    "from copy import deepcopy\n",
    "%load_ext autoreload\n",
    "%autoreload 2"
   ]
  },
  {
   "cell_type": "code",
   "execution_count": 2,
   "metadata": {},
   "outputs": [],
   "source": [
    "import torch"
   ]
  },
  {
   "cell_type": "markdown",
   "metadata": {},
   "source": [
    "## Mathematical Operations\n",
    "These classes are used by the PC network to implement various activation functions. Each class can also compute its derivative.\n",
    "\n",
    "Many of these operations do not need an object instantiation; you can compute the $\\sin$ without having to store anything. As such, these classes do not have an `__init__` function, and its methods are `@classmethod`s, which means they are generic to the class (not attached to an object).\n",
    "\n",
    "The exceptions are the classes `scalarmult` and `scaledlogistic`, in which the operation is multiplied by a scalar. That scalar has to be stored somewhere, so those classes DO instantiate an object that stores the scalar.\n",
    "\n",
    "Does that make sense?\n",
    "\n",
    "See below for how to use it."
   ]
  },
  {
   "cell_type": "code",
   "execution_count": 3,
   "metadata": {},
   "outputs": [
    {
     "name": "stdout",
     "output_type": "stream",
     "text": [
      "square\n",
      "9.0\n",
      "6.0\n"
     ]
    }
   ],
   "source": [
    "myfunc = square()   # This creates an object of class \"square\"\n",
    "print(myfunc)       # Prints the function class\n",
    "print(myfunc(3.))   # This calls the function\n",
    "print(myfunc.D(3.))   # This computes its derivative."
   ]
  },
  {
   "cell_type": "code",
   "execution_count": 4,
   "metadata": {},
   "outputs": [
    {
     "name": "stdout",
     "output_type": "stream",
     "text": [
      "-1.9999092042625952\n",
      "-9.079161547181531e-05\n"
     ]
    }
   ],
   "source": [
    "# Another example\n",
    "myfunc2 = scaledlogistic(-2.)\n",
    "print(myfunc2(10.))\n",
    "print(myfunc2.D(10.))"
   ]
  },
  {
   "cell_type": "code",
   "execution_count": 5,
   "metadata": {},
   "outputs": [
    {
     "data": {
      "image/png": "[encoded data removed]",
      "text/plain": [
       "<Figure size 432x288 with 1 Axes>"
      ]
     },
     "metadata": {
      "needs_background": "light"
     },
     "output_type": "display_data"
    }
   ],
   "source": [
    "# Plot it\n",
    "x = np.linspace(-5, 5, 200)\n",
    "plt.plot(x, myfunc2(x))\n",
    "plt.title(myfunc2);"
   ]
  },
  {
   "cell_type": "markdown",
   "metadata": {},
   "source": [
    "## `PCUnit`\n",
    "This class represents the value-node and error-node together, into what I call a \"unit\".\n",
    "\n"
   ]
  },
  {
   "cell_type": "code",
   "execution_count": 6,
   "metadata": {},
   "outputs": [
    {
     "name": "stdout",
     "output_type": "stream",
     "text": [
      "[0.]\n",
      "0.02\n",
      "False\n"
     ]
    }
   ],
   "source": [
    "v0 = PCUnit()\n",
    "print(v0.v)\n",
    "print(v0.tau)\n",
    "print(v0.clamp_v)"
   ]
  },
  {
   "cell_type": "code",
   "execution_count": 7,
   "metadata": {},
   "outputs": [
    {
     "name": "stdout",
     "output_type": "stream",
     "text": [
      "[0.5]\n"
     ]
    }
   ],
   "source": [
    "v0.v_receive(10.)  # add some input current\n",
    "v0.step(dt=0.001)  # Euler step\n",
    "print(v0.v)  # should be 0.5, since dt/tau*10 = 0.001/0.02*10 = 0.5"
   ]
  },
  {
   "cell_type": "code",
   "execution_count": 8,
   "metadata": {},
   "outputs": [
    {
     "name": "stdout",
     "output_type": "stream",
     "text": [
      "[0.5]\n"
     ]
    }
   ],
   "source": [
    "v0.v_receive(10.)  # more input current\n",
    "v0.clamp_v = True  # this time, we'll clamp it\n",
    "v0.step()          # Euler step\n",
    "print(v0.v)        # no change, since it's clamped"
   ]
  },
  {
   "cell_type": "markdown",
   "metadata": {},
   "source": [
    "## `PCConx`\n",
    "This class represents connections between `PCUnit`s."
   ]
  },
  {
   "cell_type": "code",
   "execution_count": 9,
   "metadata": {},
   "outputs": [
    {
     "name": "stdout",
     "output_type": "stream",
     "text": [
      "[0.]\n",
      "[-2.]\n"
     ]
    }
   ],
   "source": [
    "v0 = PCUnit()\n",
    "v1 = PCUnit()\n",
    "conx = PCConx(v0, v1, func=sqrt())\n",
    "v0.v[0] = 4.\n",
    "print(v1.de)  # no input to v1.e yet\n",
    "conx.send()   # v0 and v1 exchange current through conx\n",
    "print(v1.de)  # should be -sqrt(4)"
   ]
  },
  {
   "cell_type": "markdown",
   "metadata": {},
   "source": [
    "## `PCNet`\n",
    "Puts together multiple `PCUnit`s with `PCConx`s."
   ]
  },
  {
   "cell_type": "code",
   "execution_count": 10,
   "metadata": {},
   "outputs": [],
   "source": [
    "# This function is handy for printing the output from\n",
    "#  ts, u = net.run()\n",
    "def plot_PC(ts, u):\n",
    "    plt.figure(figsize=(10,5))\n",
    "    plt.subplot(1,2,1)\n",
    "    for uu in u[:]:\n",
    "        plt.plot(ts, uu[0])\n",
    "    plt.title('Error nodes')\n",
    "    plt.subplot(1,2,2)\n",
    "    for uu in u[:]:\n",
    "        plt.plot(ts, uu[1])\n",
    "    plt.title('Value nodes: top = '+str(net.unit[-1].v[0]));"
   ]
  },
  {
   "cell_type": "markdown",
   "metadata": {},
   "source": [
    "## Sample PC Code\n",
    "Here is how you can build a PCNet and run it."
   ]
  },
  {
   "cell_type": "code",
   "execution_count": 14,
   "metadata": {
    "collapsed": true,
    "jupyter": {
     "outputs_hidden": true
    }
   },
   "outputs": [
    {
     "name": "stdout",
     "output_type": "stream",
     "text": [
      "logistic\n"
     ]
    }
   ],
   "source": [
    "net = PCNet()  # Create the PCNet\n",
    "v0 = PCUnit(bottom=True)  # Create a (bottom) PCUnit\n",
    "# Note that the error node of a bottom unit is clamped by default.\n",
    "net.add_unit(v0)  # Add the PCUnit to the net\n",
    "v1 = PCUnit()  # Another PCUnit\n",
    "net.add_unit(v1)\n",
    "net.connect(v0, v1, func=logistic())"
   ]
  },
  {
   "cell_type": "code",
   "execution_count": 15,
   "metadata": {
    "collapsed": true,
    "jupyter": {
     "outputs_hidden": true
    }
   },
   "outputs": [
    {
     "data": {
      "text/plain": [
       "array([0.])"
      ]
     },
     "execution_count": 15,
     "metadata": {},
     "output_type": "execute_result"
    }
   ],
   "source": [
    "# Here is how you can access the units in the PCNet\n",
    "net.unit[0].v   # this is v0"
   ]
  },
  {
   "cell_type": "code",
   "execution_count": 16,
   "metadata": {
    "collapsed": true,
    "jupyter": {
     "outputs_hidden": true
    }
   },
   "outputs": [
    {
     "data": {
      "text/plain": [
       "logistic"
      ]
     },
     "execution_count": 16,
     "metadata": {},
     "output_type": "execute_result"
    }
   ],
   "source": [
    "# And here is how you can access the connections\n",
    "net.conx[0].func"
   ]
  },
  {
   "cell_type": "code",
   "execution_count": 17,
   "metadata": {
    "collapsed": true,
    "jupyter": {
     "outputs_hidden": true
    }
   },
   "outputs": [],
   "source": [
    "v0.v[0] = 4.  # Set the bottom input\n",
    "v0.clamp_v = True  # Clamp it\n",
    "ts, us = net.run(1.)   # Run it for 1 second"
   ]
  },
  {
   "cell_type": "code",
   "execution_count": 18,
   "metadata": {
    "collapsed": true,
    "jupyter": {
     "outputs_hidden": true
    }
   },
   "outputs": [
    {
     "data": {
      "text/plain": [
       "[ e[0.] == v[4.] ]\n",
       "[ e[-1.1956423e-11] == v[0.98201379] ]"
      ]
     },
     "execution_count": 18,
     "metadata": {},
     "output_type": "execute_result"
    }
   ],
   "source": [
    "# Look at the state of the PCNet\n",
    "net"
   ]
  },
  {
   "cell_type": "code",
   "execution_count": 19,
   "metadata": {
    "collapsed": true,
    "jupyter": {
     "outputs_hidden": true
    }
   },
   "outputs": [
    {
     "data": {
      "image/png": "[encoded data removed]",
      "text/plain": [
       "<Figure size 720x360 with 2 Axes>"
      ]
     },
     "metadata": {
      "needs_background": "light"
     },
     "output_type": "display_data"
    }
   ],
   "source": [
    "# Plot the output from the run\n",
    "plot_PC(ts, us)"
   ]
  },
  {
   "cell_type": "markdown",
   "metadata": {},
   "source": [
    "## Two nodes projecting to each other\n",
    "This is experimental; my first attempt at a fully recurrent PC network."
   ]
  },
  {
   "cell_type": "code",
   "execution_count": 30,
   "metadata": {},
   "outputs": [
    {
     "name": "stdout",
     "output_type": "stream",
     "text": [
      "logistic, scaled by 1.0\n",
      "logistic, scaled by 2.0\n"
     ]
    }
   ],
   "source": [
    "net = PCNet()  # Create the PCNet\n",
    "v0 = PCUnit(); net.add_unit(v0)  # Create and add a PCUnit\n",
    "v1 = PCUnit(); net.add_unit(v1)  # another PCUnit\n",
    "M0 = 2.\n",
    "M1 = 4.\n",
    "#net.connect(v0, v1, func=scalarmult(M0))\n",
    "#net.connect(v1, v0, func=scalarmult(M1))\n",
    "net.set_tau(0.05)\n",
    "net.connect(v0, v1, func=scaledlogistic(1.))\n",
    "net.connect(v1, v0, func=scaledlogistic(2.))"
   ]
  },
  {
   "cell_type": "code",
   "execution_count": 31,
   "metadata": {},
   "outputs": [
    {
     "name": "stdout",
     "output_type": "stream",
     "text": [
      "[ e[-0.65835904] == v[-0.15657022] ]\n",
      "[ e[1.27271089] == v[-0.3230501] ]\n",
      "\n"
     ]
    },
    {
     "data": {
      "text/plain": [
       "[ e[4.55338178e-15] == v[1.37948157] ]\n",
       "[ e[1.16736716e-15] == v[0.79890773] ]"
      ]
     },
     "execution_count": 31,
     "metadata": {},
     "output_type": "execute_result"
    }
   ],
   "source": [
    "net.randomize_state()\n",
    "print(net)\n",
    "ts, us = net.run(5., dt=0.001)\n",
    "net"
   ]
  },
  {
   "cell_type": "code",
   "execution_count": 32,
   "metadata": {},
   "outputs": [
    {
     "data": {
      "image/png": "[encoded data removed]",
      "text/plain": [
       "<Figure size 720x360 with 2 Axes>"
      ]
     },
     "metadata": {
      "needs_background": "light"
     },
     "output_type": "display_data"
    }
   ],
   "source": [
    "plot_PC(ts, us)"
   ]
  },
  {
   "cell_type": "markdown",
   "metadata": {},
   "source": [
    "### Stability of equilibrium at $[0,0,0,0]$"
   ]
  },
  {
   "cell_type": "markdown",
   "metadata": {},
   "source": [
    "Recall the system of DEs,\n",
    "$$\n",
    "\\begin{align}\n",
    "\\tau \\dot{\\varepsilon_0} &= v_0 - M_1 \\sigma (v_1) - \\varepsilon_0 \\\\\n",
    "\\tau \\dot{\\varepsilon_1} &= v_1 - M_0 \\sigma (v_0) - \\varepsilon_1 \\\\\n",
    "\\tau \\dot{v_0} &= M_0 \\varepsilon_1 \\sigma' (v_0) - \\varepsilon_0 \\\\\n",
    "\\tau \\dot{v_1} &= M_1 \\varepsilon_0 \\sigma' (v_1) - \\varepsilon_1\n",
    "\\end{align}\n",
    "$$"
   ]
  },
  {
   "cell_type": "code",
   "execution_count": 28,
   "metadata": {},
   "outputs": [],
   "source": [
    "# Jacobian at [0,0,0,0]\n",
    "M = np.array([[-1, 0, 1, -M1],\n",
    "              [0, -1, -M0, 1],\n",
    "              [-1, M0, 0, 0],\n",
    "              [M1, -1, 0, 0]])"
   ]
  },
  {
   "cell_type": "code",
   "execution_count": 28,
   "metadata": {},
   "outputs": [],
   "source": [
    "# Jacobian at [0,0,0,0]\n",
    "M = np.array([[-1, 0, 1, -M1],\n",
    "              [0, -1, -M0, 1],\n",
    "              [-1, M0, 0, 0],\n",
    "              [M1, -1, 0, 0]])"
   ]
  },
  {
   "cell_type": "code",
   "execution_count": 29,
   "metadata": {},
   "outputs": [
    {
     "data": {
      "text/plain": [
       "array([-0.5 +3.90586918j, -0.5 -3.90586918j, -0.5+20.05602618j,\n",
       "       -0.5-20.05602618j])"
      ]
     },
     "execution_count": 29,
     "metadata": {},
     "output_type": "execute_result"
    }
   ],
   "source": [
    "# The real parts of the eigenvalues are all <0\n",
    "np.linalg.eig(M)[0]"
   ]
  },
  {
   "cell_type": "markdown",
   "metadata": {},
   "source": [
    "## Millidge & Tschantz test case\n",
    "Reproduces the results in their paper."
   ]
  },
  {
   "cell_type": "code",
   "execution_count": 27,
   "metadata": {
    "collapsed": true,
    "jupyter": {
     "outputs_hidden": true
    }
   },
   "outputs": [
    {
     "name": "stdout",
     "output_type": "stream",
     "text": [
      "multiply by 2.0\n",
      "sqrt\n",
      "tan\n",
      "square\n",
      "sin\n"
     ]
    }
   ],
   "source": [
    "net = PCNet()\n",
    "v0 = PCUnit(bottom=True); net.add_unit(v0)  # input node\n",
    "v1 = PCUnit(); net.add_unit(v1)  # \\  top branch\n",
    "v2 = PCUnit(); net.add_unit(v2)  # /\n",
    "v3 = PCUnit(); net.add_unit(v3)  # > bottom branch\n",
    "v4 = PCUnit(); net.add_unit(v4)  # output\n",
    "net.connect(v0, v1, func=scalarmult(2.))\n",
    "net.connect(v1, v2, func=sqrt())\n",
    "net.connect(v2, v4, func=tan())\n",
    "net.connect(v0, v3, func=square())\n",
    "net.connect(v3, v4, func=sin())"
   ]
  },
  {
   "cell_type": "code",
   "execution_count": 28,
   "metadata": {
    "collapsed": true,
    "jupyter": {
     "outputs_hidden": true
    }
   },
   "outputs": [],
   "source": [
    "# This is the function that the above implements.\n",
    "def MTfunc(v0):\n",
    "    return np.tan(np.sqrt(np.abs(2.*v0))) + np.sin(v0**2)"
   ]
  },
  {
   "cell_type": "code",
   "execution_count": 29,
   "metadata": {
    "collapsed": true,
    "jupyter": {
     "outputs_hidden": true
    }
   },
   "outputs": [],
   "source": [
    "# Clamp input\n",
    "v0.v = np.array([5.])\n",
    "v0.clamp_v = True\n",
    "# ... and set the rest of the network close to the equilibrium\n",
    "net.unit[1].v[0] = 10.\n",
    "net.unit[2].v[0] = 3.\n",
    "net.unit[3].v[0] = 25.\n",
    "net.unit[4].v[0] = 0."
   ]
  },
  {
   "cell_type": "code",
   "execution_count": 30,
   "metadata": {
    "collapsed": true,
    "jupyter": {
     "outputs_hidden": true
    }
   },
   "outputs": [],
   "source": [
    "# Simulate the network\n",
    "ts, u = net.run(1.)"
   ]
  },
  {
   "cell_type": "code",
   "execution_count": 31,
   "metadata": {
    "collapsed": true,
    "jupyter": {
     "outputs_hidden": true
    }
   },
   "outputs": [
    {
     "data": {
      "text/plain": [
       "[ e[0.] == v[5.] ]\n",
       "[ e[2.04600878e-12] == v[10.] ]\n",
       "[ e[-3.94529352e-11] == v[3.16227766] ]\n",
       "[ e[-4.15679937e-11] == v[25.] ]\n",
       "[ e[1.10414874e-10] == v[-0.11166379] ]"
      ]
     },
     "execution_count": 31,
     "metadata": {},
     "output_type": "execute_result"
    },
    {
     "data": {
      "image/png": "[encoded data removed]",
      "text/plain": [
       "<Figure size 720x360 with 2 Axes>"
      ]
     },
     "metadata": {
      "needs_background": "light"
     },
     "output_type": "display_data"
    }
   ],
   "source": [
    "# And observe the output\n",
    "plot_PC(ts, u)\n",
    "net"
   ]
  },
  {
   "cell_type": "markdown",
   "metadata": {},
   "source": [
    "### Error gradients\n",
    "These demonstrations are how we match the results of Millidge & Tschantz."
   ]
  },
  {
   "cell_type": "markdown",
   "metadata": {
    "collapsed": "false"
   },
   "source": [
    "- Clamp both sides\n",
    "- Fix $\\mu$-values after initial pass (as M&T do)\n",
    "- Top gradient is $\\mu - T$"
   ]
  },
  {
   "cell_type": "code",
   "execution_count": 32,
   "metadata": {
    "collapsed": true,
    "jupyter": {
     "outputs_hidden": true
    }
   },
   "outputs": [],
   "source": [
    "T = 1  # target for top layer\n",
    "net.fix_mu()  # store current v-values in corresponding mu's"
   ]
  },
  {
   "cell_type": "code",
   "execution_count": 33,
   "metadata": {
    "collapsed": true,
    "jupyter": {
     "outputs_hidden": true
    }
   },
   "outputs": [],
   "source": [
    "# We also have to clamp the top error\n",
    "net.unit[-1].clamp_e = True\n",
    "net.unit[-1].e[0] = -(net.unit[-1].v[0] - T)  # TOP ERROR USES MU"
   ]
  },
  {
   "cell_type": "code",
   "execution_count": 34,
   "metadata": {
    "collapsed": true,
    "jupyter": {
     "outputs_hidden": true
    }
   },
   "outputs": [],
   "source": [
    "# clamp top and bottom\n",
    "net.unit[0].v = np.array([5.])\n",
    "net.unit[-1].v = np.array([1.])\n",
    "net.unit[0].clamp_v = True\n",
    "net.unit[-1].clamp_v = True"
   ]
  },
  {
   "cell_type": "code",
   "execution_count": 35,
   "metadata": {
    "collapsed": true,
    "jupyter": {
     "outputs_hidden": true
    }
   },
   "outputs": [],
   "source": [
    "ts, us = net.run(1.)"
   ]
  },
  {
   "cell_type": "code",
   "execution_count": 36,
   "metadata": {
    "collapsed": true,
    "jupyter": {
     "outputs_hidden": true
    }
   },
   "outputs": [
    {
     "data": {
      "text/plain": [
       "[ e[0.] == v[5.] ]\n",
       "[ e[0.17584471] == v[10.17584471] ]\n",
       "[ e[1.11213958] == v[4.27441724] ]\n",
       "[ e[1.10188428] == v[26.10188428] ]\n",
       "[ e[1.11166379] == v[1.] ]"
      ]
     },
     "execution_count": 36,
     "metadata": {},
     "output_type": "execute_result"
    },
    {
     "data": {
      "image/png": "[encoded data removed]",
      "text/plain": [
       "<Figure size 720x360 with 2 Axes>"
      ]
     },
     "metadata": {
      "needs_background": "light"
     },
     "output_type": "display_data"
    }
   ],
   "source": [
    "# Errors (gradients) should all be close to zero\n",
    "plot_PC(ts, us)\n",
    "net"
   ]
  },
  {
   "cell_type": "code",
   "execution_count": 37,
   "metadata": {
    "collapsed": true,
    "jupyter": {
     "outputs_hidden": true
    }
   },
   "outputs": [
    {
     "name": "stdout",
     "output_type": "stream",
     "text": [
      "[5.]\n",
      "[10.]\n",
      "[3.16227766]\n",
      "[25.]\n",
      "[-0.11166379]\n"
     ]
    }
   ],
   "source": [
    "for u in net.unit:\n",
    "    print(u.mu)"
   ]
  },
  {
   "cell_type": "markdown",
   "metadata": {},
   "source": [
    "## Using $v$ instead of $\\mu$\n",
    "However, if we run the same network as a dynamical system (ignoring the $\\mu$-values), we get different results."
   ]
  },
  {
   "cell_type": "code",
   "execution_count": 38,
   "metadata": {
    "collapsed": true,
    "jupyter": {
     "outputs_hidden": true
    }
   },
   "outputs": [],
   "source": [
    "net.unit[1].v[0] = 10.\n",
    "net.unit[2].v[0] = 3.\n",
    "net.unit[3].v[0] = 25.\n",
    "net.unit[4].v[0] = 1."
   ]
  },
  {
   "cell_type": "code",
   "execution_count": 39,
   "metadata": {
    "collapsed": true,
    "jupyter": {
     "outputs_hidden": true
    }
   },
   "outputs": [],
   "source": [
    "net.release_mu()   # tells it not to use the mu-values\n",
    "net.unit[-1].clamp_e = False  # and compute the top error dynamically\n",
    "ts, us = net.run(1.)"
   ]
  },
  {
   "cell_type": "code",
   "execution_count": 40,
   "metadata": {
    "collapsed": true,
    "jupyter": {
     "outputs_hidden": true
    }
   },
   "outputs": [
    {
     "data": {
      "text/plain": [
       "[ e[0.] == v[5.] ]\n",
       "[ e[0.06446739] == v[10.06446739] ]\n",
       "[ e[0.40903967] == v[3.58149413] ]\n",
       "[ e[0.32846733] == v[25.32846733] ]\n",
       "[ e[0.33486098] == v[1.] ]"
      ]
     },
     "execution_count": 40,
     "metadata": {},
     "output_type": "execute_result"
    }
   ],
   "source": [
    "net"
   ]
  },
  {
   "cell_type": "code",
   "execution_count": 41,
   "metadata": {
    "collapsed": true,
    "jupyter": {
     "outputs_hidden": true
    }
   },
   "outputs": [
    {
     "data": {
      "text/plain": [
       "[ e[0.] == v[5.] ]\n",
       "[ e[0.06446739] == v[10.06446739] ]\n",
       "[ e[0.40903967] == v[3.58149413] ]\n",
       "[ e[0.32846733] == v[25.32846733] ]\n",
       "[ e[0.33486098] == v[1.] ]"
      ]
     },
     "execution_count": 41,
     "metadata": {},
     "output_type": "execute_result"
    }
   ],
   "source": [
    "net"
   ]
  },
  {
   "cell_type": "code",
   "execution_count": 42,
   "metadata": {
    "collapsed": true,
    "jupyter": {
     "outputs_hidden": true
    }
   },
   "outputs": [],
   "source": [
    "ts, u = net.run(1.)"
   ]
  },
  {
   "cell_type": "code",
   "execution_count": 43,
   "metadata": {
    "collapsed": true,
    "jupyter": {
     "outputs_hidden": true
    }
   },
   "outputs": [
    {
     "data": {
      "image/png": "[encoded data removed]",
      "text/plain": [
       "<Figure size 720x360 with 2 Axes>"
      ]
     },
     "metadata": {
      "needs_background": "light"
     },
     "output_type": "display_data"
    }
   ],
   "source": [
    "plot_PC(ts, u)"
   ]
  },
  {
   "cell_type": "code",
   "execution_count": 44,
   "metadata": {
    "collapsed": true,
    "jupyter": {
     "outputs_hidden": true
    }
   },
   "outputs": [
    {
     "data": {
      "text/plain": [
       "[ e[0.] == v[5.] ]\n",
       "[ e[0.06446739] == v[10.06446739] ]\n",
       "[ e[0.40903969] == v[3.58149416] ]\n",
       "[ e[0.32846735] == v[25.32846735] ]\n",
       "[ e[0.33486095] == v[1.] ]"
      ]
     },
     "execution_count": 44,
     "metadata": {},
     "output_type": "execute_result"
    }
   ],
   "source": [
    "net"
   ]
  },
  {
   "cell_type": "code",
   "execution_count": 45,
   "metadata": {
    "collapsed": true,
    "jupyter": {
     "outputs_hidden": true
    }
   },
   "outputs": [
    {
     "data": {
      "image/png": "[encoded data removed]",
      "text/plain": [
       "<Figure size 720x360 with 2 Axes>"
      ]
     },
     "metadata": {
      "needs_background": "light"
     },
     "output_type": "display_data"
    }
   ],
   "source": [
    "net.randomize_state(noise=0.1)\n",
    "for u in net.unit:\n",
    "    u.v = np.abs(u.v)\n",
    "net.unit[-1].v = np.array([1.])\n",
    "ts, u = net.run(2.)\n",
    "plot_PC(ts, u)"
   ]
  },
  {
   "cell_type": "code",
   "execution_count": 46,
   "metadata": {
    "collapsed": true,
    "jupyter": {
     "outputs_hidden": true
    }
   },
   "outputs": [
    {
     "data": {
      "text/plain": [
       "[ e[-0.07589518] == v[0.01547321] ]\n",
       "[ e[-0.22563005] == v[-0.19468364] ]\n",
       "[ e[0.19910936] == v[0.64033905] ]\n",
       "[ e[0.12699883] == v[0.12723825] ]\n",
       "[ e[0.12803384] == v[1.] ]"
      ]
     },
     "execution_count": 46,
     "metadata": {},
     "output_type": "execute_result"
    }
   ],
   "source": [
    "net"
   ]
  },
  {
   "cell_type": "code",
   "execution_count": 47,
   "metadata": {
    "collapsed": true,
    "jupyter": {
     "outputs_hidden": true
    }
   },
   "outputs": [
    {
     "data": {
      "text/plain": [
       "0.17799274301703324"
      ]
     },
     "execution_count": 47,
     "metadata": {},
     "output_type": "execute_result"
    }
   ],
   "source": [
    "MTfunc(net.unit[0].v[0])"
   ]
  },
  {
   "cell_type": "code",
   "execution_count": null,
   "metadata": {
    "collapsed": true,
    "jupyter": {
     "outputs_hidden": true
    }
   },
   "outputs": [],
   "source": []
  }
 ],
 "metadata": {
  "kernelspec": {
   "display_name": "Python 3",
   "language": "python",
   "name": "python3"
  },
  "language_info": {
   "codemirror_mode": {
    "name": "ipython",
    "version": 3
   },
   "file_extension": ".py",
   "mimetype": "text/x-python",
   "name": "python",
   "nbconvert_exporter": "python",
   "pygments_lexer": "ipython3",
   "version": "3.8.3"
  }
 },
 "nbformat": 4,
 "nbformat_minor": 4
}
